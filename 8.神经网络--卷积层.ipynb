{
 "cells": [
  {
   "cell_type": "code",
   "execution_count": 13,
   "id": "66fc68d9",
   "metadata": {
    "pycharm": {
     "name": "#%%\n"
    }
   },
   "outputs": [],
   "source": [
    "import torch\n",
    "import  torchvision\n",
    "from torch import  nn\n",
    "from torch.nn import Conv2d\n",
    "from torch.utils.data import DataLoader\n",
    "from torch.utils.tensorboard import SummaryWriter"
   ]
  },
  {
   "cell_type": "code",
   "execution_count": null,
   "id": "8b5bee81",
   "metadata": {
    "pycharm": {
     "name": "#%%\n"
    }
   },
   "outputs": [],
   "source": [
    "# 卷积层\n",
    "torch.nn.Conv2d(in_channels,  # 输入通道数  彩色图像 3维通道\n",
    "                out_channels, # 多个channel，不同卷积核计算结果后叠加\n",
    "                kernel_size,  # 卷积核大小  (3,3)  值在训练中不断调整\n",
    "                stride=1,     # 路径\n",
    "                padding=0,    # padding数\n",
    "                dilation=1,   # 卷积核的对应位\n",
    "                groups=1,     # \n",
    "                bias=True,    # 偏值，卷积结果加上一个数\n",
    "                padding_mode='zeros', # 填充方式\n",
    "                device=None, \n",
    "                dtype=None)"
   ]
  },
  {
   "cell_type": "code",
   "execution_count": 14,
   "id": "e1af420a",
   "metadata": {
    "pycharm": {
     "name": "#%%\n"
    }
   },
   "outputs": [
    {
     "name": "stdout",
     "output_type": "stream",
     "text": [
      "Files already downloaded and verified\n"
     ]
    }
   ],
   "source": [
    "# 准备数据集\n",
    "dataset = torchvision.datasets.CIFAR10(\"./CIFAR10\", transform=torchvision.transforms.ToTensor(), train=False, download=True)\n",
    "\n",
    "dataloader = DataLoader(dataset, batch_size=64)"
   ]
  },
  {
   "cell_type": "code",
   "execution_count": 15,
   "id": "fd32b624",
   "metadata": {
    "pycharm": {
     "name": "#%%\n"
    }
   },
   "outputs": [],
   "source": [
    "class MyModel(nn.Module):\n",
    "    def __init__(self):\n",
    "        super(MyModel, self).__init__()\n",
    "        self.conv1 =  Conv2d(in_channels=3, out_channels=6, kernel_size=3, stride=1, padding=0)\n",
    "\n",
    "    def forward(self, x):\n",
    "        x = self.conv1(x)   # 一次卷积操作\n",
    "        return x"
   ]
  },
  {
   "cell_type": "code",
   "execution_count": 16,
   "id": "f44f8849",
   "metadata": {
    "pycharm": {
     "name": "#%%\n"
    }
   },
   "outputs": [],
   "source": [
    "# 使用模型\n",
    "model = MyModel()"
   ]
  },
  {
   "cell_type": "code",
   "execution_count": 17,
   "id": "ddbb283a",
   "metadata": {
    "pycharm": {
     "name": "#%%\n"
    }
   },
   "outputs": [],
   "source": [
    "writer = SummaryWriter('logs')\n",
    "step = 0\n",
    "for data in dataloader:\n",
    "    imgs, targets = data\n",
    "#     print(imgs.shape)\n",
    "    output = model(imgs)\n",
    "#     print(output.shape)\n",
    "    #torch.Size([64, 3, 32, 32])\n",
    "    writer.add_images('input', imgs, step)\n",
    "    # torch.Size([64, 6, 30, 30])  6个通道无法显示\n",
    "    output = torch.reshape(output, (-1, 3, 30, 30))\n",
    "    writer.add_images('output', output, step)\n",
    "    step = step + 1"
   ]
  }
 ],
 "metadata": {
  "kernelspec": {
   "display_name": "Python 3",
   "language": "python",
   "name": "python3"
  },
  "language_info": {
   "codemirror_mode": {
    "name": "ipython",
    "version": 3
   },
   "file_extension": ".py",
   "mimetype": "text/x-python",
   "name": "python",
   "nbconvert_exporter": "python",
   "pygments_lexer": "ipython3",
   "version": "3.6.13"
  }
 },
 "nbformat": 4,
 "nbformat_minor": 5
}