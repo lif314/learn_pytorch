{
 "cells": [
  {
   "cell_type": "code",
   "execution_count": 1,
   "metadata": {
    "collapsed": true,
    "pycharm": {
     "name": "#%%\n"
    }
   },
   "outputs": [],
   "source": [
    "import torch\n",
    "from torch import nn\n",
    "from torch.utils.data import DataLoader\n",
    "import torchvision"
   ]
  },
  {
   "cell_type": "code",
   "execution_count": 2,
   "outputs": [
    {
     "name": "stdout",
     "output_type": "stream",
     "text": [
      "Files already downloaded and verified\n"
     ]
    }
   ],
   "source": [
    "# 准备数据集\n",
    "dataset = torchvision.datasets.CIFAR10('CIFAR10', train=False, transform=torchvision.transforms.ToTensor(), download=True)\n",
    "\n",
    "dataloader = DataLoader(dataset, batch_size=4)"
   ],
   "metadata": {
    "collapsed": false,
    "pycharm": {
     "name": "#%%\n"
    }
   }
  },
  {
   "cell_type": "code",
   "execution_count": 3,
   "outputs": [],
   "source": [
    "from torch.nn import Sequential, Conv2d, MaxPool2d, Flatten, Linear\n",
    "\n",
    "class CIFAR10_Model(nn.Module):\n",
    "    def __init__(self):\n",
    "        super().__init__()\n",
    "        # 使用Sequential创建网络\n",
    "        self.sequential = Sequential(\n",
    "             Conv2d(3, 32, 5, padding=2,stride=1),\n",
    "             MaxPool2d(2),\n",
    "             Conv2d(32, 32, 5, padding=2),\n",
    "             MaxPool2d(2),\n",
    "             Conv2d(32, 64, 5, padding=2),\n",
    "             MaxPool2d(2),\n",
    "             Flatten(),\n",
    "             Linear(1024, 64),\n",
    "             Linear(64, 10)\n",
    "        )\n",
    "\n",
    "    def forward(self, x):\n",
    "        x = self.sequential(x)\n",
    "        return x"
   ],
   "metadata": {
    "collapsed": false,
    "pycharm": {
     "name": "#%%\n"
    }
   }
  },
  {
   "cell_type": "code",
   "execution_count": 5,
   "outputs": [
    {
     "name": "stdout",
     "output_type": "stream",
     "text": [
      "tensor([[-0.0229, -0.0631,  0.0346,  0.1048,  0.1681, -0.1182, -0.1119,  0.1722,\n",
      "          0.0526,  0.0703],\n",
      "        [-0.0375, -0.0453,  0.0285,  0.1083,  0.1776, -0.1077, -0.0835,  0.1820,\n",
      "          0.0459,  0.0440],\n",
      "        [-0.0271, -0.0632,  0.0292,  0.1047,  0.2023, -0.1251, -0.1084,  0.1919,\n",
      "          0.0360,  0.0415],\n",
      "        [-0.0306, -0.0479,  0.0154,  0.0968,  0.1960, -0.1216, -0.1068,  0.1926,\n",
      "          0.0445,  0.0649]], grad_fn=<AddmmBackward0>)\n",
      "tensor([3, 8, 8, 0])\n",
      "tensor(2.2985, grad_fn=<NllLossBackward0>)\n"
     ]
    }
   ],
   "source": [
    "loss = nn.CrossEntropyLoss()  # 交叉熵损失函数\n",
    "\n",
    "model = CIFAR10_Model()\n",
    "for data in dataloader:\n",
    "    imgs, targets = data\n",
    "    outputs = model(imgs)\n",
    "    print(outputs)\n",
    "    print(targets)\n",
    "    los = loss(outputs, targets)\n",
    "    print(los)\n",
    "    los.backward()    # 反向传播  计算梯度，下降\n",
    "    break   # 测试时使用"
   ],
   "metadata": {
    "collapsed": false,
    "pycharm": {
     "name": "#%%\n"
    }
   }
  },
  {
   "cell_type": "markdown",
   "source": [
    "**梯度下降**"
   ],
   "metadata": {
    "collapsed": false,
    "pycharm": {
     "name": "#%% md\n"
    }
   }
  },
  {
   "cell_type": "code",
   "execution_count": null,
   "outputs": [],
   "source": [],
   "metadata": {
    "collapsed": false,
    "pycharm": {
     "name": "#%%\n"
    }
   }
  }
 ],
 "metadata": {
  "kernelspec": {
   "display_name": "Python 3",
   "language": "python",
   "name": "python3"
  },
  "language_info": {
   "codemirror_mode": {
    "name": "ipython",
    "version": 2
   },
   "file_extension": ".py",
   "mimetype": "text/x-python",
   "name": "python",
   "nbconvert_exporter": "python",
   "pygments_lexer": "ipython2",
   "version": "2.7.6"
  }
 },
 "nbformat": 4,
 "nbformat_minor": 0
}