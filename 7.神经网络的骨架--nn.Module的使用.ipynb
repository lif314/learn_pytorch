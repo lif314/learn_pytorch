{
 "cells": [
  {
   "cell_type": "code",
   "execution_count": 5,
   "id": "9e62a495",
   "metadata": {},
   "outputs": [],
   "source": [
    "from torch import nn\n",
    "import torch"
   ]
  },
  {
   "cell_type": "code",
   "execution_count": 6,
   "id": "3d157bdb",
   "metadata": {},
   "outputs": [],
   "source": [
    "# 定义模型\n",
    "\n",
    "class MyModel(nn.Module):\n",
    "    def __init__(self):\n",
    "        super().__init__()   # 调用父类进行初始化\n",
    "        \n",
    "    def forward(self, input):  # input 神经网络的输入\n",
    "        output = input + 1\n",
    "        return output          # 神经网络的输出"
   ]
  },
  {
   "cell_type": "code",
   "execution_count": 9,
   "id": "951ddfa6",
   "metadata": {},
   "outputs": [
    {
     "name": "stdout",
     "output_type": "stream",
     "text": [
      "tensor(2.)\n"
     ]
    }
   ],
   "source": [
    "# 调用神经网络\n",
    "model = MyModel()\n",
    "# x = 1.0\n",
    "x = torch.tensor(1.0)  # 输入\n",
    "output = model(x)      # 使用神经网络\n",
    "print(output)"
   ]
  },
  {
   "cell_type": "markdown",
   "id": "7d589847",
   "metadata": {},
   "source": [
    "## 卷积操作  Convolution Layers"
   ]
  },
  {
   "cell_type": "code",
   "execution_count": 10,
   "id": "973f96fc",
   "metadata": {},
   "outputs": [
    {
     "name": "stdout",
     "output_type": "stream",
     "text": [
      "tensor([[1, 2, 0, 3, 1],\n",
      "        [0, 1, 2, 3, 1],\n",
      "        [1, 2, 1, 0, 0],\n",
      "        [5, 2, 3, 1, 1],\n",
      "        [2, 1, 0, 1, 1]])\n"
     ]
    }
   ],
   "source": [
    "data = [[1,2,0,3,1],\n",
    "       [0,1,2,3,1],\n",
    "       [1,2,1,0,0],\n",
    "       [5,2,3,1,1,],\n",
    "       [2,1,0,1,1]]\n",
    "\n",
    "# 输入图像矩阵：张量（5*5）\n",
    "input = torch.tensor(data)\n",
    "\n",
    "print(input)"
   ]
  },
  {
   "cell_type": "code",
   "execution_count": 11,
   "id": "8015720b",
   "metadata": {},
   "outputs": [
    {
     "name": "stdout",
     "output_type": "stream",
     "text": [
      "tensor([[1, 2, 1],\n",
      "        [0, 1, 0],\n",
      "        [2, 1, 0]])\n"
     ]
    }
   ],
   "source": [
    "# 卷积核(3*3)\n",
    "kernel = torch.tensor([[1,2,1],\n",
    "                      [0,1,0],\n",
    "                      [2,1,0]])\n",
    "\n",
    "print(kernel)"
   ]
  },
  {
   "cell_type": "code",
   "execution_count": null,
   "id": "e9474220",
   "metadata": {},
   "outputs": [],
   "source": [
    "# 卷积操作\n",
    "torch.nn.Conv2d(in_channels, # 输入 具有尺寸要求\n",
    "                out_channels,# 输出 具有尺寸要求\n",
    "                kernel_size, # 卷积核大小\n",
    "                stride=1, \n",
    "                padding=0, \n",
    "                dilation=1, \n",
    "                groups=1,\n",
    "                bias=True, \n",
    "                padding_mode='zeros', \n",
    "                device=None, \n",
    "                dtype=None)"
   ]
  },
  {
   "cell_type": "code",
   "execution_count": 13,
   "id": "3e1ea404",
   "metadata": {},
   "outputs": [
    {
     "name": "stdout",
     "output_type": "stream",
     "text": [
      "torch.Size([5, 5])\n",
      "torch.Size([3, 3])\n"
     ]
    }
   ],
   "source": [
    "print(input.shape)\n",
    "print(kernel.shape)"
   ]
  },
  {
   "cell_type": "code",
   "execution_count": 15,
   "id": "01a649e8",
   "metadata": {},
   "outputs": [
    {
     "name": "stdout",
     "output_type": "stream",
     "text": [
      "torch.Size([1, 1, 5, 5])\n",
      "torch.Size([1, 1, 3, 3])\n"
     ]
    }
   ],
   "source": [
    "# 变换尺寸\n",
    "input = torch.reshape(input, (1,1,5,5))  # batch size, number of channels, height, widdth\n",
    "kernel= torch.reshape(kernel, (1,1,3,3))\n",
    "print(input.shape)\n",
    "print(kernel.shape)"
   ]
  },
  {
   "cell_type": "code",
   "execution_count": 16,
   "id": "fb03ec72",
   "metadata": {},
   "outputs": [
    {
     "name": "stdout",
     "output_type": "stream",
     "text": [
      "tensor([[[[10, 12, 12],\n",
      "          [18, 16, 16],\n",
      "          [13,  9,  3]]]])\n"
     ]
    }
   ],
   "source": [
    "# 卷积\n",
    "import torch.nn.functional as F\n",
    "\n",
    "# 卷积结果\n",
    "output = F.conv2d(input, kernel, stride=1)\n",
    "print(output)"
   ]
  },
  {
   "cell_type": "code",
   "execution_count": 17,
   "id": "6692fe11",
   "metadata": {},
   "outputs": [
    {
     "name": "stdout",
     "output_type": "stream",
     "text": [
      "tensor([[[[10, 12],\n",
      "          [13,  3]]]])\n"
     ]
    }
   ],
   "source": [
    "output2 = F.conv2d(input, kernel, stride=2)\n",
    "print(output2)"
   ]
  },
  {
   "cell_type": "code",
   "execution_count": 18,
   "id": "2e79bb4e",
   "metadata": {},
   "outputs": [
    {
     "name": "stdout",
     "output_type": "stream",
     "text": [
      "tensor([[[[ 1,  3,  4, 10,  8],\n",
      "          [ 5, 10, 12, 12,  6],\n",
      "          [ 7, 18, 16, 16,  8],\n",
      "          [11, 13,  9,  3,  4],\n",
      "          [14, 13,  9,  7,  4]]]])\n"
     ]
    }
   ],
   "source": [
    "# padding 填充数据，默认不进行填充\n",
    "output3 = F.conv2d(input, kernel, stride=1,padding=1)  # 以0进行填充\n",
    "print(output3)"
   ]
  }
 ],
 "metadata": {
  "kernelspec": {
   "display_name": "Python 3",
   "language": "python",
   "name": "python3"
  },
  "language_info": {
   "codemirror_mode": {
    "name": "ipython",
    "version": 3
   },
   "file_extension": ".py",
   "mimetype": "text/x-python",
   "name": "python",
   "nbconvert_exporter": "python",
   "pygments_lexer": "ipython3",
   "version": "3.6.13"
  }
 },
 "nbformat": 4,
 "nbformat_minor": 5
}
