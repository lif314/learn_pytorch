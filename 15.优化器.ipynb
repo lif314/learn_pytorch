{
 "cells": [
  {
   "cell_type": "code",
   "execution_count": 1,
   "metadata": {
    "collapsed": true,
    "pycharm": {
     "name": "#%%\n"
    }
   },
   "outputs": [],
   "source": [
    "import torch\n",
    "from torch import nn\n",
    "from torch.utils.data import DataLoader\n",
    "import torchvision"
   ]
  },
  {
   "cell_type": "code",
   "execution_count": 2,
   "outputs": [
    {
     "name": "stdout",
     "output_type": "stream",
     "text": [
      "Files already downloaded and verified\n"
     ]
    }
   ],
   "source": [
    "# 准备数据集\n",
    "dataset = torchvision.datasets.CIFAR10('CIFAR10', train=False, transform=torchvision.transforms.ToTensor(), download=True)\n",
    "\n",
    "dataloader = DataLoader(dataset, batch_size=4)"
   ],
   "metadata": {
    "collapsed": false,
    "pycharm": {
     "name": "#%%\n"
    }
   }
  },
  {
   "cell_type": "code",
   "execution_count": 3,
   "outputs": [],
   "source": [
    "from torch.nn import Sequential, Conv2d, MaxPool2d, Flatten, Linear\n",
    "\n",
    "class CIFAR10_Model(nn.Module):\n",
    "    def __init__(self):\n",
    "        super().__init__()\n",
    "        # 使用Sequential创建网络\n",
    "        self.sequential = Sequential(\n",
    "             Conv2d(3, 32, 5, padding=2,stride=1),\n",
    "             MaxPool2d(2),\n",
    "             Conv2d(32, 32, 5, padding=2),\n",
    "             MaxPool2d(2),\n",
    "             Conv2d(32, 64, 5, padding=2),\n",
    "             MaxPool2d(2),\n",
    "             Flatten(),\n",
    "             Linear(1024, 64),\n",
    "             Linear(64, 10)\n",
    "        )\n",
    "\n",
    "    def forward(self, x):\n",
    "        x = self.sequential(x)\n",
    "        return x"
   ],
   "metadata": {
    "collapsed": false,
    "pycharm": {
     "name": "#%%\n"
    }
   }
  },
  {
   "cell_type": "code",
   "execution_count": 7,
   "outputs": [
    {
     "name": "stdout",
     "output_type": "stream",
     "text": [
      "epoch:0\n",
      "tensor(2.2925, grad_fn=<NllLossBackward0>)\n",
      "epoch:1\n",
      "tensor(2.2820, grad_fn=<NllLossBackward0>)\n",
      "epoch:2\n",
      "tensor(2.2722, grad_fn=<NllLossBackward0>)\n",
      "epoch:3\n",
      "tensor(2.2625, grad_fn=<NllLossBackward0>)\n",
      "epoch:4\n",
      "tensor(2.2528, grad_fn=<NllLossBackward0>)\n",
      "epoch:5\n",
      "tensor(2.2425, grad_fn=<NllLossBackward0>)\n",
      "epoch:6\n",
      "tensor(2.2314, grad_fn=<NllLossBackward0>)\n",
      "epoch:7\n",
      "tensor(2.2194, grad_fn=<NllLossBackward0>)\n",
      "epoch:8\n",
      "tensor(2.2068, grad_fn=<NllLossBackward0>)\n",
      "epoch:9\n",
      "tensor(2.1935, grad_fn=<NllLossBackward0>)\n"
     ]
    }
   ],
   "source": [
    "loss = nn.CrossEntropyLoss()  # 交叉熵损失函数\n",
    "model = CIFAR10_Model()\n",
    "\n",
    "# 模型参数 学习速率\n",
    "optimizer = torch.optim.SGD(model.parameters(), lr=0.01)   # 随机梯度下降\n",
    "# 轮次训练\n",
    "for epoch in range(10):\n",
    "    print(\"epoch:{}\".format(epoch))\n",
    "    step = 0\n",
    "    for data in dataloader:\n",
    "        imgs, targets = data\n",
    "        outputs = model(imgs)\n",
    "        # print(outputs)\n",
    "        # print(targets)\n",
    "        los = loss(outputs, targets)  # 计算误差\n",
    "        # print(los)   # 打印loss变换\n",
    "        optimizer.zero_grad()  # 对上一步中梯度数据清零\n",
    "        los.backward()    # 反向传播  计算梯度，下降\n",
    "        optimizer.step()   # 下一步梯度下降\n",
    "        step = step + 1\n",
    "        if step == 10:\n",
    "            print(los)   # 打印loss变换\n",
    "            break   # 测试时使用"
   ],
   "metadata": {
    "collapsed": false,
    "pycharm": {
     "name": "#%%\n"
    }
   }
  }
 ],
 "metadata": {
  "kernelspec": {
   "display_name": "Python 3",
   "language": "python",
   "name": "python3"
  },
  "language_info": {
   "codemirror_mode": {
    "name": "ipython",
    "version": 2
   },
   "file_extension": ".py",
   "mimetype": "text/x-python",
   "name": "python",
   "nbconvert_exporter": "python",
   "pygments_lexer": "ipython2",
   "version": "2.7.6"
  }
 },
 "nbformat": 4,
 "nbformat_minor": 0
}