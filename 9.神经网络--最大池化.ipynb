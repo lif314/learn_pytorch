{
 "cells": [
  {
   "cell_type": "code",
   "execution_count": 23,
   "metadata": {
    "collapsed": true,
    "pycharm": {
     "name": "#%%\n"
    }
   },
   "outputs": [],
   "source": [
    "import torch\n",
    "from torch import nn\n",
    "from torch.nn import MaxPool2d\n",
    "from torch.utils.data import DataLoader\n",
    "import torchvision\n",
    "from torch.utils.tensorboard import SummaryWriter"
   ]
  },
  {
   "cell_type": "code",
   "execution_count": 17,
   "outputs": [
    {
     "name": "stdout",
     "output_type": "stream",
     "text": [
      "tensor([[[[1., 2., 0., 3., 1.],\n",
      "          [0., 1., 2., 3., 1.],\n",
      "          [1., 2., 1., 0., 0.],\n",
      "          [5., 2., 3., 1., 1.],\n",
      "          [2., 1., 0., 1., 1.]]]])\n",
      "torch.Size([1, 1, 5, 5])\n"
     ]
    }
   ],
   "source": [
    "data = [[1,2,0,3,1],\n",
    "       [0,1,2,3,1],\n",
    "       [1,2,1,0,0],\n",
    "       [5,2,3,1,1,],\n",
    "       [2,1,0,1,1]]\n",
    "\n",
    "# 输入图像矩阵：张量（5*5）\n",
    "input = torch.tensor(data, dtype=torch.float32) # 使用float32类型\n",
    "input = torch.reshape(input, (-1,1,5,5))\n",
    "print(input)\n",
    "print(input.shape)"
   ],
   "metadata": {
    "collapsed": false,
    "pycharm": {
     "name": "#%%\n"
    }
   }
  },
  {
   "cell_type": "code",
   "execution_count": 18,
   "outputs": [],
   "source": [
    "class MaxPoolModel(nn.Module):\n",
    "    def __init__(self):\n",
    "        super(MaxPoolModel, self).__init__()\n",
    "        self.maxpool1 = MaxPool2d(kernel_size=3, ceil_mode=True)  # ceil_mode是否向上取\n",
    "\n",
    "    def forward(self, x):\n",
    "        x = self.maxpool1(x)\n",
    "        return x"
   ],
   "metadata": {
    "collapsed": false,
    "pycharm": {
     "name": "#%%\n"
    }
   }
  },
  {
   "cell_type": "code",
   "execution_count": 19,
   "outputs": [
    {
     "name": "stdout",
     "output_type": "stream",
     "text": [
      "torch.Size([1, 1, 2, 2])\n",
      "tensor([[[[2., 3.],\n",
      "          [5., 1.]]]])\n"
     ]
    }
   ],
   "source": [
    "model = MaxPoolModel()\n",
    "output = model(input)\n",
    "print(output.shape)\n",
    "print(output)\n",
    "\n",
    "# \"max_pool2d\" not implemented for 'Long'  需要设置为float32类型"
   ],
   "metadata": {
    "collapsed": false,
    "pycharm": {
     "name": "#%%\n"
    }
   }
  },
  {
   "cell_type": "markdown",
   "source": [
    "最大池化的作用：\n",
    "- 降维，减少数据量\n",
    "- 不会更改数据的维度(channel数)"
   ],
   "metadata": {
    "collapsed": false,
    "pycharm": {
     "name": "#%% md\n"
    }
   }
  },
  {
   "cell_type": "code",
   "execution_count": 21,
   "outputs": [
    {
     "name": "stdout",
     "output_type": "stream",
     "text": [
      "Files already downloaded and verified\n"
     ]
    }
   ],
   "source": [
    "dataset = torchvision.datasets.CIFAR10(\"./CIFAR10\", train=False, download=True, transform=torchvision.transforms.ToTensor())\n",
    "\n",
    "dataloader = DataLoader(dataset, batch_size=64)"
   ],
   "metadata": {
    "collapsed": false,
    "pycharm": {
     "name": "#%%\n"
    }
   }
  },
  {
   "cell_type": "code",
   "execution_count": 24,
   "outputs": [],
   "source": [
    "step = 0\n",
    "img_maxPool = MaxPoolModel()\n",
    "writer = SummaryWriter('logs')\n",
    "for data in dataloader:\n",
    "    imgs, targets = data\n",
    "    # print(imgs.shape)\n",
    "    # torch.Size([64, 3, 32, 32])\n",
    "    writer.add_images('input', imgs, step)\n",
    "    output = img_maxPool(imgs)  # 最大池化  3*3\n",
    "    # torch.Size([64, 3, 11, 11])\n",
    "    writer.add_images(\"max_pool\", output, step)\n",
    "    step = step + 1\n",
    "    # print(output.shape)\n",
    "writer.close()"
   ],
   "metadata": {
    "collapsed": false,
    "pycharm": {
     "name": "#%%\n"
    }
   }
  }
 ],
 "metadata": {
  "kernelspec": {
   "display_name": "Python 3",
   "language": "python",
   "name": "python3"
  },
  "language_info": {
   "codemirror_mode": {
    "name": "ipython",
    "version": 2
   },
   "file_extension": ".py",
   "mimetype": "text/x-python",
   "name": "python",
   "nbconvert_exporter": "python",
   "pygments_lexer": "ipython2",
   "version": "2.7.6"
  }
 },
 "nbformat": 4,
 "nbformat_minor": 0
}