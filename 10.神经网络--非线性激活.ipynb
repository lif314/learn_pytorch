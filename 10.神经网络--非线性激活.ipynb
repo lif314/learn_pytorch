{
 "cells": [
  {
   "cell_type": "code",
   "execution_count": 12,
   "outputs": [],
   "source": [
    "import torch\n",
    "from torch import nn\n",
    "from torch.nn import ReLU, Sigmoid"
   ],
   "metadata": {
    "collapsed": false,
    "pycharm": {
     "name": "#%%\n"
    }
   }
  },
  {
   "cell_type": "code",
   "execution_count": 3,
   "metadata": {
    "collapsed": true,
    "pycharm": {
     "name": "#%%\n"
    }
   },
   "outputs": [
    {
     "name": "stdout",
     "output_type": "stream",
     "text": [
      "torch.Size([1, 1, 2, 2])\n"
     ]
    }
   ],
   "source": [
    "input = torch.tensor([[1,-0.5],\n",
    "                      [-1, 3]])\n",
    "# 注意输入需要的数据形状\n",
    "input = torch.reshape(input, (-1, 1, 2, 2))\n",
    "print(input.shape)"
   ]
  },
  {
   "cell_type": "code",
   "execution_count": 10,
   "outputs": [],
   "source": [
    "class ReLUActivationModel(nn.Module):\n",
    "    def __init__(self):\n",
    "        super().__init__()\n",
    "        self.relu1 = ReLU(inplace=False)  # inplace 是否在原来的变量进行替换\n",
    "\n",
    "    def forward(self, input):\n",
    "        output = self.relu1(input)\n",
    "        return output\n"
   ],
   "metadata": {
    "collapsed": false,
    "pycharm": {
     "name": "#%%\n"
    }
   }
  },
  {
   "cell_type": "code",
   "execution_count": 11,
   "outputs": [
    {
     "name": "stdout",
     "output_type": "stream",
     "text": [
      "tensor([[[[ 1.0000, -0.5000],\n",
      "          [-1.0000,  3.0000]]]])\n",
      "tensor([[[[1., 0.],\n",
      "          [0., 3.]]]])\n"
     ]
    }
   ],
   "source": [
    "relu = ReLUActivationModel()\n",
    "output = relu(input)    # ReLU 小于0的数全部变为0  对图像处理不明显\n",
    "print(input)\n",
    "print(output)"
   ],
   "metadata": {
    "collapsed": false,
    "pycharm": {
     "name": "#%%\n"
    }
   }
  },
  {
   "cell_type": "code",
   "execution_count": 13,
   "outputs": [],
   "source": [
    "class SigmoidModel(nn.Module):\n",
    "    def __init__(self):\n",
    "        super().__init__()\n",
    "        self.sigmoid = Sigmoid()\n",
    "\n",
    "    def forward(self, input):\n",
    "        return self.sigmoid(input)"
   ],
   "metadata": {
    "collapsed": false,
    "pycharm": {
     "name": "#%%\n"
    }
   }
  },
  {
   "cell_type": "code",
   "execution_count": 14,
   "outputs": [
    {
     "name": "stdout",
     "output_type": "stream",
     "text": [
      "tensor([[[[ 1.0000, -0.5000],\n",
      "          [-1.0000,  3.0000]]]])\n",
      "tensor([[[[0.7311, 0.3775],\n",
      "          [0.2689, 0.9526]]]])\n"
     ]
    }
   ],
   "source": [
    "sigmoid = SigmoidModel()\n",
    "output1 = sigmoid(input)\n",
    "print(input)\n",
    "print(output1)"
   ],
   "metadata": {
    "collapsed": false,
    "pycharm": {
     "name": "#%%\n"
    }
   }
  },
  {
   "cell_type": "code",
   "execution_count": 15,
   "outputs": [
    {
     "name": "stdout",
     "output_type": "stream",
     "text": [
      "Files already downloaded and verified\n"
     ]
    }
   ],
   "source": [
    "from torch.utils.data import DataLoader\n",
    "import torchvision\n",
    "\n",
    "dataset = torchvision.datasets.CIFAR10(\"CIFAR10\", train=False, transform=torchvision.transforms.ToTensor(), download=True)\n",
    "\n",
    "dataloader = DataLoader( dataset,batch_size=64)"
   ],
   "metadata": {
    "collapsed": false,
    "pycharm": {
     "name": "#%%\n"
    }
   }
  },
  {
   "cell_type": "code",
   "execution_count": 16,
   "outputs": [],
   "source": [
    "from torch.utils.tensorboard import  SummaryWriter\n",
    "\n",
    "writer = SummaryWriter('logs')"
   ],
   "metadata": {
    "collapsed": false,
    "pycharm": {
     "name": "#%%\n"
    }
   }
  },
  {
   "cell_type": "code",
   "execution_count": 18,
   "outputs": [],
   "source": [
    "step = 0\n",
    "model = SigmoidModel()\n",
    "for data in dataloader:\n",
    "    imgs, targets = data\n",
    "    # torch.Size([64, 3, 32, 32])\n",
    "    # print(imgs.shape)\n",
    "    writer.add_images(\"sig_input\", imgs, step)\n",
    "    output = model(imgs)\n",
    "    writer.add_images(\"sig_output\", output, step)\n",
    "    step = step + 1\n",
    "    # torch.Size([64, 3, 32, 32])\n",
    "    # print(output.shape)\n",
    "    break"
   ],
   "metadata": {
    "collapsed": false,
    "pycharm": {
     "name": "#%%\n"
    }
   }
  },
  {
   "cell_type": "markdown",
   "source": [
    "- Sigmoid: 图像变为灰色"
   ],
   "metadata": {
    "collapsed": false,
    "pycharm": {
     "name": "#%% md\n"
    }
   }
  }
 ],
 "metadata": {
  "kernelspec": {
   "display_name": "Python 3",
   "language": "python",
   "name": "python3"
  },
  "language_info": {
   "codemirror_mode": {
    "name": "ipython",
    "version": 2
   },
   "file_extension": ".py",
   "mimetype": "text/x-python",
   "name": "python",
   "nbconvert_exporter": "python",
   "pygments_lexer": "ipython2",
   "version": "2.7.6"
  }
 },
 "nbformat": 4,
 "nbformat_minor": 0
}